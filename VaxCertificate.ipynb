{
 "cells": [
  {
   "cell_type": "markdown",
   "id": "3dbb9ef6-fa26-4373-a2f3-fcf4899f0517",
   "metadata": {},
   "source": [
    "## Using OpenCV-Python library to redesign the vaccination certificate temple and provide the require info that needs to be written on it"
   ]
  },
  {
   "cell_type": "code",
   "execution_count": 2,
   "id": "161a84af-589c-4afa-90d8-2ec131ab71c6",
   "metadata": {},
   "outputs": [],
   "source": [
    "#import the necessary libraries</pre>\n",
    "#pip install opencv-python\n",
    "  \n",
    "import cv2 as cv\n",
    "import openpyxl"
   ]
  },
  {
   "cell_type": "code",
   "execution_count": 4,
   "id": "8575555a-d4aa-4db7-9f30-ea559d04940b",
   "metadata": {},
   "outputs": [],
   "source": [
    "# VaxCertiTemple.png is the template\n",
    "# certificate\n",
    "vax_certi_temple_path = 'VaxCertiTemple.png'"
   ]
  },
  {
   "cell_type": "code",
   "execution_count": 7,
   "id": "d031bdc7-653b-4cff-aeb5-74266db403d8",
   "metadata": {},
   "outputs": [],
   "source": [
    "# Output Paths\n",
    "output_path = './'"
   ]
  },
  {
   "cell_type": "code",
   "execution_count": 8,
   "id": "5af8502e-8a40-4ae7-a3eb-78c11c3e5940",
   "metadata": {},
   "outputs": [],
   "source": [
    "# Setting the font size and font\n",
    "# colour\n",
    "font_size = 1\n",
    "font_color = (0,0,0)"
   ]
  },
  {
   "cell_type": "code",
   "execution_count": 9,
   "id": "41ae1342-7dfd-40a1-bcb1-81147d30764c",
   "metadata": {},
   "outputs": [],
   "source": [
    "# Info that needs to be printed on the certificate \n",
    "\n",
    "name = \"\"\n",
    "dob = \"\"\n",
    "valid_from = \"\"\n",
    "vax_serial_number = \"\"\n",
    "vax1 = \"\"\n",
    "vax2 = \"\""
   ]
  },
  {
   "cell_type": "code",
   "execution_count": 10,
   "id": "726ec4b8-63cc-4f5d-86e7-0b6280c6d77f",
   "metadata": {},
   "outputs": [],
   "source": [
    "# excel sheet\n",
    "def vax_cert (name, dob, valid_from, vax_serial_number, vax1, vax2):\n",
    "    \n",
    "    # read the certificate template\n",
    "    vax_img = cv.imread(vax_certi_temple_path)\n",
    "\n",
    "    # choose the font from opencv\n",
    "    font = cv.FONT_HERSHEY_DUPLEX                   \n",
    "    \n",
    "    #Specify the coordinates where the texts would be displayed \n",
    "    cv.putText(vax_img, name,(50,252),font,font_size,font_color,1)\n",
    "    cv.putText(vax_img, dob,(50,310),font,font_size,font_color,1)\n",
    "    cv.putText(vax_img, valid_from,(50,373),font,font_size,font_color,1)\n",
    "    cv.putText(vax_img, vax_serial_number,(20,490),font,font_size,font_color,1)\n",
    "    cv.putText(vax_img, vax1,(10,545),font,font_size,font_color,1)\n",
    "    cv.putText(vax_img, vax2,(10,570),font,font_size,font_color,1)\n",
    "\n",
    "    # Output path along with the name of the\n",
    "    # certificate generated\n",
    "    certi_path = output_path + '/VaxCert2' + '.png'\n",
    "\n",
    "    # Save the certificate                      \n",
    "    cv.imwrite(certi_path,vax_img)\n",
    "    \n",
    "    return certi_path"
   ]
  },
  {
   "cell_type": "markdown",
   "id": "23f7f01b-9ac8-46a3-8431-376760dbb20f",
   "metadata": {},
   "source": [
    "## Creating the QrCode for the vaccination certificate "
   ]
  },
  {
   "cell_type": "code",
   "execution_count": 1,
   "id": "140f9375-54ff-4b57-a8d8-04b17b08fcca",
   "metadata": {},
   "outputs": [],
   "source": [
    "#pip install qrcode\n",
    "import qrcode\n",
    "\n",
    "qr = qrcode.QRCode(\n",
    "    # integer from 1 to 40 that controls the size of the QR Code\n",
    "    version=1,\n",
    "\n",
    "    # error_correction parameter controls the error correction used for the QR Code\n",
    "    error_correction=qrcode.constants.ERROR_CORRECT_L,\n",
    "    \n",
    "    # box_size parameter controls how many pixels each “box” of the QR code is.\n",
    "    box_size=10,\n",
    "    \n",
    "    # border parameter controls how many boxes thick the border should be.\n",
    "    # the default is 4, which is the minimum\n",
    "    border=4,\n",
    ")\n",
    "\n",
    "# add your text here\n",
    "qr.add_data('./VaxCert2.png')\n",
    "qr.make(fit=True)\n",
    "\n",
    "# change the colors of the QR code\n",
    "img = qr.make_image(fill_color=\"green\", back_color=\"Beige\")\n",
    "\n",
    "# name the file and save it\n",
    "img.save(\"VaxCert.png\")"
   ]
  }
 ],
 "metadata": {
  "kernelspec": {
   "display_name": "Python 3",
   "language": "python",
   "name": "python3"
  },
  "language_info": {
   "codemirror_mode": {
    "name": "ipython",
    "version": 3
   },
   "file_extension": ".py",
   "mimetype": "text/x-python",
   "name": "python",
   "nbconvert_exporter": "python",
   "pygments_lexer": "ipython3",
   "version": "3.7.10"
  }
 },
 "nbformat": 4,
 "nbformat_minor": 5
}
