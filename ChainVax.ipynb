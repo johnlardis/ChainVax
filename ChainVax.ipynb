{
 "cells": [
  {
   "cell_type": "code",
   "execution_count": 1,
   "id": "86e7c7b7-7af1-46dc-b7b1-da773721c675",
   "metadata": {},
   "outputs": [],
   "source": [
    "# !pip install opencv-python\n",
    "# !pip install qrcode"
   ]
  },
  {
   "cell_type": "code",
   "execution_count": 2,
   "id": "5fd6871a-3c16-4d70-95a5-b84b0c201be5",
   "metadata": {},
   "outputs": [
    {
     "data": {
      "text/plain": [
       "True"
      ]
     },
     "execution_count": 2,
     "metadata": {},
     "output_type": "execute_result"
    }
   ],
   "source": [
    "# import libraries\n",
    "import requests\n",
    "import json\n",
    "import os\n",
    "from datetime import date\n",
    "from web3.providers.rpc import HTTPProvider\n",
    "from web3.contract import ConciseContract\n",
    "import cv2 as cv\n",
    "import openpyxl\n",
    "import qrcode\n",
    "from dotenv import load_dotenv\n",
    "from pathlib import Path\n",
    "from web3 import Web3\n",
    "from pprint import pprint\n",
    "load_dotenv()"
   ]
  },
  {
   "cell_type": "code",
   "execution_count": 3,
   "id": "2bf8aa7a-187a-48f4-ad8f-8df976c5200e",
   "metadata": {},
   "outputs": [],
   "source": [
    "# assign values to keys and addresses\n",
    "pin_url = 'https://api.pinata.cloud/pinning/pinJSONToIPFS'\n",
    "PINATA_API_KEY = os.getenv('PINATA_API_KEY')\n",
    "PINATA_SECRET_KEY = os.getenv('PINATA_SECRET_KEY')\n",
    "WEB3_PROVIDER_URI = 'HTTP://127.0.0.1:8545'\n",
    "w3 = Web3(Web3.HTTPProvider(WEB3_PROVIDER_URI))\n",
    "CHAINVAX_ADDRESS = '0xcEfBD2E908C32A31A894Ca88e8625fd53256ACe0'\n",
    "headers = {\n",
    "    \"Content-Type\": \"application/json\",\n",
    "    \"pinata_api_key\": PINATA_API_KEY,\n",
    "    \"pinata_secret_api_key\": PINATA_SECRET_KEY,\n",
    "}"
   ]
  },
  {
   "cell_type": "code",
   "execution_count": 4,
   "id": "9e0aea05-99c5-4f8c-b644-c6c50fae19f9",
   "metadata": {},
   "outputs": [],
   "source": [
    "#We are going to make a function that sends a json object to pinata, so they can host it on the IPFS for us\n",
    "\n",
    "def pinJSONtoIPFS(json):\n",
    "    r = requests.post(pin_url, data=json, headers=headers)\n",
    "    ipfs_hash = r.json()[\"IpfsHash\"]\n",
    "    return f\"https://gateway.pinata.cloud/ipfs/{ipfs_hash}\""
   ]
  },
  {
   "cell_type": "code",
   "execution_count": 5,
   "id": "3c554bf8-c144-4e24-a3b1-4ed6f917a164",
   "metadata": {},
   "outputs": [],
   "source": [
    "#We are going to make a function that sends a IMG object to pinata, so they can host it on the IPFS for us\n",
    "pin_img_url = 'https://api.pinata.cloud/pinning/pinFileToIPFS'\n",
    "img_headers = {\n",
    " \"pinata_api_key\": PINATA_API_KEY,\n",
    " \"pinata_secret_api_key\": PINATA_SECRET_KEY,\n",
    "}\n",
    "def pinIMGtoIPFS(img_pth):\n",
    "    file = {'file': open(img_pth, 'rb')}\n",
    "    r = requests.post(pin_img_url,files = file,headers=img_headers)\n",
    "    ipfs_hash = r.json()[\"IpfsHash\"]\n",
    "    return f\"https://gateway.pinata.cloud/ipfs/{ipfs_hash}\""
   ]
  },
  {
   "cell_type": "code",
   "execution_count": 6,
   "id": "7584bac8-e589-4a4a-8ec6-e7c479e62d5c",
   "metadata": {},
   "outputs": [],
   "source": [
    "def convertDataToJSON(name, dob, serial, date, docNo):\n",
    "    data = {\n",
    "    \"pinataOptions\": {\"cidVersion\": 1},\n",
    "    \"pinataContent\": {\n",
    "    \"certificate\": \"COVID Vaccination Certificate\",\n",
    "    \"name\": name,\n",
    "    \"date of birth\": dob,\n",
    "    \"vaccine serial number\": serial,\n",
    "    \"vaccine date\": date,\n",
    "    \"doccument number\": docNo,}\n",
    "}\n",
    "    return data #was doing json.dumps(data) but moved the .dumps to createVaccineCertificate function"
   ]
  },
  {
   "cell_type": "code",
   "execution_count": 7,
   "id": "5db9e339-0492-4b71-8c33-b2723e6f95f4",
   "metadata": {},
   "outputs": [
    {
     "name": "stdin",
     "output_type": "stream",
     "text": [
      "what is your name?:  ChainVax Test\n",
      "what is your date of birth?:  01/01/0101\n",
      "what is the vaccine serial number?:  XPZR0000123789\n",
      "what is your first vaccine dose:  C19 Vax PZ - 01/01/21\n",
      "what is your second vaccine dose?:  C19 Vax PZ - 01/04/21\n",
      "Vaccine Type:  Pfizer\n",
      "what is your Ethernet wallet address?:  0x89CB4ACe78a8968abE2d668C1F9c5a699C35fB76\n"
     ]
    }
   ],
   "source": [
    "# Inputs for the person being vaccinated to create a digital certificate as an NFT and send to their Ethernet wallet\n",
    "name = input(\"what is your name?: \")\n",
    "dob = input(\"what is your date of birth?: \")\n",
    "valid_from = str(date.today())\n",
    "serial = input(\"what is the vaccine serial number?: \")\n",
    "vax1 = input(\"what is your first vaccine dose: \")\n",
    "vax2 = input(\"what is your second vaccine dose?: \")\n",
    "vaxType = input(\"Vaccine Type: \")\n",
    "vaccinationDate = valid_from\n",
    "vaccinationType = vaxType\n",
    "vaccineSerialNumber = serial\n",
    "vax_serial_number = serial\n",
    "todays_date = valid_from\n",
    "address_owner = '0xc4026624e88D1fdC6E53cf901b22Dff30423F2ee'#this will be the owner of the smart contract\n",
    "address_recipient = input(\"what is your Ethernet wallet address?: \")"
   ]
  },
  {
   "cell_type": "code",
   "execution_count": 8,
   "id": "33091b47-c038-4c0c-ac69-e7141c5a8c37",
   "metadata": {},
   "outputs": [],
   "source": [
    "# what is your name?:  ChainVax Test\n",
    "# what is your date of birth?:  01/01/0101\n",
    "# what is the vaccine serial number?:  XPZR0000123789\n",
    "# what is your first vaccine dose:  C19 Vax PZ - 01/01/21\n",
    "# what is your second vaccine dose?:  C19 Vax PZ - 01/04/21\n",
    "# Vaccine Type:  Pfizer\n",
    "# what is your Ethernet wallet address?:  0x89CB4ACe78a8968abE2d668C1F9c5a699C35fB76"
   ]
  },
  {
   "cell_type": "code",
   "execution_count": 9,
   "id": "20a3de23-d4ca-45cd-b899-85ded318f6d6",
   "metadata": {},
   "outputs": [],
   "source": [
    "# create function to interact with smart contract and prepare values for writing the certificate\n",
    "def initContract():\n",
    "    with open(Path(\"ChainVax.json\")) as json_file:\n",
    "        abi = json.load(json_file)\n",
    "    return w3.eth.contract(address=CHAINVAX_ADDRESS, abi=abi)\n",
    "chainvax = initContract()\n",
    "reader = ConciseContract(chainvax)\n",
    "docNo = reader.totalSupply() +1\n",
    "vax_certi_temple_path = 'VaxCertiTemple.png'\n",
    "output_path = './'\n",
    "font_size = 1\n",
    "font_color = (0,0,0)"
   ]
  },
  {
   "cell_type": "code",
   "execution_count": 10,
   "id": "fccd890e-a4f8-46e8-926f-4fe6b23a7c0e",
   "metadata": {},
   "outputs": [],
   "source": [
    "# this function creates a certificate from the arguments\n",
    "def vax_cert (name, dob, valid_from, vax_serial_number, vax1, vax2):\n",
    "    \n",
    "    # read the certificate template\n",
    "    vax_img = cv.imread(vax_certi_temple_path)\n",
    "\n",
    "    # choose the font from opencv\n",
    "    font = cv.FONT_HERSHEY_DUPLEX              \n",
    "\n",
    "    # get the size of the name to be\n",
    "    # printed\n",
    "    text_size = cv.getTextSize(name,font, font_size, 4)[0]     \n",
    "\n",
    "    cv.putText(vax_img, name,(20,252),font,font_size,font_color,1)\n",
    "    cv.putText(vax_img, dob,(50,310),font,font_size,font_color,1)\n",
    "    cv.putText(vax_img, valid_from,(50,373),font,font_size,font_color,1)\n",
    "    cv.putText(vax_img, str(vax_serial_number),(20,490),font,font_size,font_color,1)\n",
    "    cv.putText(vax_img, vax1,(10,545),font,font_size,font_color,1)\n",
    "    cv.putText(vax_img, vax2,(10,570),font,font_size,font_color,1)\n",
    "\n",
    "    # Output path along with the name of the\n",
    "    # certificate generated\n",
    "    certi_path = output_path + '/VaxCert2' + '.png'\n",
    "\n",
    "    # Save the certificate                      \n",
    "    cv.imwrite(certi_path,vax_img)\n",
    "    \n",
    "    return certi_path"
   ]
  },
  {
   "cell_type": "code",
   "execution_count": 11,
   "id": "39e9df81-d9cb-49d5-a356-63bb616d2896",
   "metadata": {},
   "outputs": [],
   "source": [
    "# this funciton also takes the inputs from cell [7] and uses the vax_cert function creating a certificate and uploading to the IPFS\n",
    "# it then appends the IPFS URI to the json_data and uploads the json data to the IPFS\n",
    "# it then creates a QR code of the ceritifacte image for easy visualisation\n",
    "\n",
    "def createVaccineCertificate(name, dob, serial, todays_date, docNo, vax1, vax2):\n",
    "    reader = ConciseContract(chainvax)\n",
    "    docNo = reader.totalSupply() + 1\n",
    "    json_data = convertDataToJSON(name, dob, serial, todays_date, docNo)\n",
    "    png_file_path = vax_cert(name, dob, todays_date, docNo, vax1, vax2)\n",
    "    img_ipfs = pinIMGtoIPFS(png_file_path)\n",
    "    json_data[\"pinataContent\"]['img_ipfs_uri'] = img_ipfs\n",
    "    report_uri = pinJSONtoIPFS(json.dumps(json_data))\n",
    "    \n",
    "    qr = qrcode.QRCode(\n",
    "    # integer from 1 to 40 that controls the size of the QR Code\n",
    "    version=1,\n",
    "    # error_correction parameter controls the error correction used for the QR Code\n",
    "    error_correction=qrcode.constants.ERROR_CORRECT_L,\n",
    "    # box_size parameter controls how many pixels each \"box\" of the QR code is.\n",
    "    box_size=10,   \n",
    "    # border parameter controls how many boxes thick the border should be.\n",
    "    # the default is 4, which is the minimum\n",
    "    border=4,\n",
    "    )\n",
    "    # add your text here\n",
    "    ##qr.add_data(pinIMGtoIPFS('VaxCert2.png'))\n",
    "    qr.add_data(img_ipfs)\n",
    "    qr.make(fit=True)\n",
    "    # change the colors of the QR code\n",
    "    img = qr.make_image(fill_color=\"green\", back_color=\"Beige\")\n",
    "    # name the file and save it\n",
    "    img.save(\"QR_VaxCert.png\")\n",
    "    return report_uri"
   ]
  },
  {
   "cell_type": "code",
   "execution_count": 12,
   "id": "c9b2ef2f-e4d4-4d9e-b233-2fabec109ef5",
   "metadata": {},
   "outputs": [
    {
     "data": {
      "text/plain": [
       "'https://gateway.pinata.cloud/ipfs/bafkreie2gdrr7muoft2k3jsx6mn2hr7ql4keijk3cmtgfpqn7aim7r32ce'"
      ]
     },
     "execution_count": 12,
     "metadata": {},
     "output_type": "execute_result"
    }
   ],
   "source": [
    "createVaccineCertificate(name, dob, serial, valid_from, docNo, vax1, vax2)"
   ]
  },
  {
   "cell_type": "code",
   "execution_count": 13,
   "id": "c9ae0e1c-e66f-46f3-a211-ca8027788d9e",
   "metadata": {},
   "outputs": [],
   "source": [
    "# #test function to interact with smart contract\n",
    "# def testFunction():\n",
    "#     tx_hash = chainvax.functions.testFunction().transact({\"from\": w3.eth.accounts[0]})\n",
    "#     receipt = w3.eth.waitForTransactionReceipt(tx_hash)\n",
    "#     return receipt"
   ]
  },
  {
   "cell_type": "code",
   "execution_count": 14,
   "id": "eb19c185-bca3-48d2-92e6-57d1748cb4fa",
   "metadata": {},
   "outputs": [],
   "source": [
    "#testFunction()"
   ]
  },
  {
   "cell_type": "code",
   "execution_count": 15,
   "id": "0bf9f4d8-b34a-4122-9f33-acce71db3258",
   "metadata": {},
   "outputs": [
    {
     "name": "stdout",
     "output_type": "stream",
     "text": [
      "AttributeDict({'transactionHash': HexBytes('0x23306520df2825b84b8649f3447bb07dab4ec33ce52d0c3f2552d8b7904d732d'), 'transactionIndex': 0, 'blockHash': HexBytes('0x52b9286c4fcfad698a2d202297646169c8fc2cb88de4864245a721300c122950'), 'blockNumber': 57, 'from': '0xc4026624e88D1fdC6E53cf901b22Dff30423F2ee', 'to': '0xcEfBD2E908C32A31A894Ca88e8625fd53256ACe0', 'gasUsed': 420638, 'cumulativeGasUsed': 420638, 'contractAddress': None, 'logs': [AttributeDict({'logIndex': 0, 'transactionIndex': 0, 'transactionHash': HexBytes('0x23306520df2825b84b8649f3447bb07dab4ec33ce52d0c3f2552d8b7904d732d'), 'blockHash': HexBytes('0x52b9286c4fcfad698a2d202297646169c8fc2cb88de4864245a721300c122950'), 'blockNumber': 57, 'address': '0xcEfBD2E908C32A31A894Ca88e8625fd53256ACe0', 'data': '0x', 'topics': [HexBytes('0xddf252ad1be2c89b69c2b068fc378daa952ba7f163c4a11628f55a4df523b3ef'), HexBytes('0x0000000000000000000000000000000000000000000000000000000000000000'), HexBytes('0x000000000000000000000000c4026624e88d1fdc6e53cf901b22dff30423f2ee'), HexBytes('0x0000000000000000000000000000000000000000000000000000000000000008')], 'type': 'mined'}), AttributeDict({'logIndex': 1, 'transactionIndex': 0, 'transactionHash': HexBytes('0x23306520df2825b84b8649f3447bb07dab4ec33ce52d0c3f2552d8b7904d732d'), 'blockHash': HexBytes('0x52b9286c4fcfad698a2d202297646169c8fc2cb88de4864245a721300c122950'), 'blockNumber': 57, 'address': '0xcEfBD2E908C32A31A894Ca88e8625fd53256ACe0', 'data': '0x', 'topics': [HexBytes('0xddf252ad1be2c89b69c2b068fc378daa952ba7f163c4a11628f55a4df523b3ef'), HexBytes('0x000000000000000000000000c4026624e88d1fdc6e53cf901b22dff30423f2ee'), HexBytes('0x00000000000000000000000089cb4ace78a8968abe2d668c1f9c5a699c35fb76'), HexBytes('0x0000000000000000000000000000000000000000000000000000000000000008')], 'type': 'mined'}), AttributeDict({'logIndex': 2, 'transactionIndex': 0, 'transactionHash': HexBytes('0x23306520df2825b84b8649f3447bb07dab4ec33ce52d0c3f2552d8b7904d732d'), 'blockHash': HexBytes('0x52b9286c4fcfad698a2d202297646169c8fc2cb88de4864245a721300c122950'), 'blockNumber': 57, 'address': '0xcEfBD2E908C32A31A894Ca88e8625fd53256ACe0', 'data': '0x00000000000000000000000000000000000000000000000000000000000000080000000000000000000000000000000000000000000000000000000000000040000000000000000000000000000000000000000000000000000000000000005d68747470733a2f2f676174657761792e70696e6174612e636c6f75642f697066732f6261666b726569653267647272376d756f6674326b336a7378366d6e32687237716c346b65696a6b33636d74676670716e3761696d377233326365000000', 'topics': [HexBytes('0x62f9c08a5bc3884024b14b8f143a3a85ac4f5121b7f9ee37a8cf1417759d186d')], 'type': 'mined'})], 'status': 1, 'logsBloom': HexBytes('0x00000000000000000000000800000000000000000000000000000000000000000000000000204000000000000000000000000000000080000000000000000000000000000000000000000008010000000000000000000000000000000000000000000000020000000000000000000900000000800000000000000010000000000080000000000000000000000000000000000000000000000000000000000000000000000000000000000000000000000000000800000000000040000000000040000002000000000000000000000000000000010000000000000004000020000000000000000000080000000000000000000000040000000000000000000000')})\n",
      "Report IPFS Hash: https://gateway.pinata.cloud/ipfs/bafkreie2gdrr7muoft2k3jsx6mn2hr7ql4keijk3cmtgfpqn7aim7r32ce\n"
     ]
    }
   ],
   "source": [
    "# these are the arguments for the solidity smart contract(address owner, string memory DOB,string memory NAME, string memory vaccinationType, string memory vaccinationDate, string memory vaccineSerialNumber, string memory token_uri, address recipient) public returns(uint)\n",
    "# this funciton will now register the Vaccine Certificate on the blockchain\n",
    "\n",
    "def registerVaccineDose(address_owner, dob, name, vaccinationType, vaccinationDate, vaccineSerialNumber, report_uri, address_recipient):\n",
    "    tx_hash = chainvax.functions.registerVaccineDose(address_owner, dob, name, vaccinationType, vaccinationDate, vaccineSerialNumber, report_uri, address_recipient).transact({\"from\": w3.eth.accounts[0]})\n",
    "    receipt = w3.eth.waitForTransactionReceipt(tx_hash)\n",
    "    return receipt\n",
    "# This is calling a solidity function from python \n",
    "report_uri = createVaccineCertificate(name, dob, serial, todays_date, docNo, vax1, vax2)\n",
    "receipt = registerVaccineDose(address_owner, dob, name, vaccinationType, vaccinationDate, vaccineSerialNumber, report_uri, address_recipient)\n",
    "print(receipt)\n",
    "print(\"Report IPFS Hash:\", report_uri)"
   ]
  },
  {
   "cell_type": "code",
   "execution_count": null,
   "id": "8b8a9be0-0a1c-465d-bf64-45963202bd92",
   "metadata": {},
   "outputs": [],
   "source": []
  }
 ],
 "metadata": {
  "kernelspec": {
   "display_name": "Python 3",
   "language": "python",
   "name": "python3"
  },
  "language_info": {
   "codemirror_mode": {
    "name": "ipython",
    "version": 3
   },
   "file_extension": ".py",
   "mimetype": "text/x-python",
   "name": "python",
   "nbconvert_exporter": "python",
   "pygments_lexer": "ipython3",
   "version": "3.7.10"
  }
 },
 "nbformat": 4,
 "nbformat_minor": 5
}
